{
 "cells": [
  {
   "cell_type": "markdown",
   "id": "8c2bb50b-401a-461e-a730-d08c6e26f91f",
   "metadata": {},
   "source": [
    "# Organize the data "
   ]
  },
  {
   "cell_type": "code",
   "execution_count": 3,
   "id": "e571d1a1-2b06-4bdf-b3df-12faf2b9b0c8",
   "metadata": {},
   "outputs": [],
   "source": [
    "import matplotlib.pyplot as plt\n",
    "import numpy as np\n",
    "\n",
    "# Models and their evaluation metrics\n",
    "model_names = ['ResNet50_V1', 'Inception_V3', 'DenseNet121', 'MobileNetV3', 'EfficientNet', 'VGG16']\n",
    "metrics = {\n",
    "    'Sagittal T1': {\n",
    "        'f1': [0.7316, 0.7326, 0.7287, 0.6934, 0.6905, 0.7190],\n",
    "        'recall': [0.7916, 0.7906, 0.7913, 0.7827, 0.7829, 0.7865],\n",
    "        'accuracy': [79.16, 79.06, 79.13, 78.27, 78.29, 78.65]\n",
    "    },\n",
    "    'Axial T2': {\n",
    "        'f1': [0.7910, 0.7844, 0.7892, 0.7687, 0.6375, 0.7930],\n",
    "        'recall': [0.7955, 0.7937, 0.7965, 0.7809, 0.7119, 0.7981],\n",
    "        'accuracy': [79.55, 79.37, 79.65, 78.09, 71.19, 79.81]\n",
    "    },\n",
    "    'Sagittal T2': {\n",
    "        'f1': [0.8182, 0.8140, 0.8201, 0.8114, 0.8119, 0.8114],\n",
    "        'recall': [0.8713, 0.8723, 0.8733, 0.8713, 0.8677, 0.8713],\n",
    "        'accuracy': [87.13, 87.23, 87.33, 87.13, 86.77, 87.13]\n",
    "    }\n",
    "}\n"
   ]
  },
  {
   "cell_type": "markdown",
   "id": "6d837287-a080-44d3-8928-14193a6c7e66",
   "metadata": {},
   "source": [
    "# Plot histogramms"
   ]
  },
  {
   "cell_type": "code",
   "execution_count": 12,
   "id": "0ae277bd-1cab-494c-acd4-546805d4acad",
   "metadata": {},
   "outputs": [
    {
     "data": {
      "text/plain": [
       "['Evaluation_Metrics\\\\f1_Sagittal_T1.png',\n",
       " 'Evaluation_Metrics\\\\f1_Axial_T2.png',\n",
       " 'Evaluation_Metrics\\\\f1_Sagittal_T2.png',\n",
       " 'Evaluation_Metrics\\\\recall_Sagittal_T1.png',\n",
       " 'Evaluation_Metrics\\\\recall_Axial_T2.png',\n",
       " 'Evaluation_Metrics\\\\recall_Sagittal_T2.png',\n",
       " 'Evaluation_Metrics\\\\accuracy_Sagittal_T1.png',\n",
       " 'Evaluation_Metrics\\\\accuracy_Axial_T2.png',\n",
       " 'Evaluation_Metrics\\\\accuracy_Sagittal_T2.png']"
      ]
     },
     "execution_count": 12,
     "metadata": {},
     "output_type": "execute_result"
    }
   ],
   "source": [
    "import os\n",
    "import matplotlib.pyplot as plt\n",
    "import numpy as np\n",
    "\n",
    "def plot_histograms(metrics, metric_name, case, model_names):\n",
    "    plt.figure(figsize=(10, 6))\n",
    "    \n",
    "    # Get the values for the selected metric and case\n",
    "    values = metrics[case][metric_name]\n",
    "    \n",
    "    # Find the index of the maximum value\n",
    "    max_index = np.argmax(values)\n",
    "    \n",
    "    # Assign colors: highlight the maximum value with a different color\n",
    "    colors = ['skyblue'] * len(values)\n",
    "    colors[max_index] = 'orange'  # Set the color for the max value\n",
    "    \n",
    "    # Create a vertical bar chart\n",
    "    plt.bar(model_names, values, color=colors)\n",
    "    \n",
    "    plt.ylabel(metric_name.capitalize())  # Label the y-axis\n",
    "    plt.title(f'{metric_name.capitalize()} for {case}')  # Title for the case\n",
    "    plt.ylim([min(values) - 0.05, max(values) + 0.05])  # Adjusting limits for better visualization\n",
    "    \n",
    "    plt.xticks(rotation=45, ha='right')  # Rotate model names for better readability\n",
    "    \n",
    "    plt.tight_layout()  # Adjust layout to prevent overlapping\n",
    "    \n",
    "    # Save the figure in the Evaluation_Metrics folder\n",
    "    save_dir = 'Evaluation_Metrics'\n",
    "    if not os.path.exists(save_dir):\n",
    "        os.makedirs(save_dir)  # Create the directory if it doesn't exist\n",
    "    \n",
    "    filename = f\"{metric_name}_{case.replace(' ', '_')}.png\"\n",
    "    plt.savefig(os.path.join(save_dir, filename))\n",
    "    plt.close()\n",
    "\n",
    "# Plot and save histograms for F1 Score, Recall, and Accuracy for each case\n",
    "cases = ['Sagittal T1', 'Axial T2', 'Sagittal T2']\n",
    "metrics_to_plot = ['f1', 'recall', 'accuracy']\n",
    "\n",
    "for metric in metrics_to_plot:\n",
    "    for case in cases:\n",
    "        plot_histograms(metrics, metric, case, model_names)\n",
    "\n",
    "# Return the file paths for the saved images\n",
    "image_paths = [os.path.join('Evaluation_Metrics', f'{metric}_{case.replace(\" \", \"_\")}.png') for metric in metrics_to_plot for case in cases]\n",
    "image_paths\n"
   ]
  }
 ],
 "metadata": {
  "kernelspec": {
   "display_name": "custom",
   "language": "python",
   "name": "custom"
  },
  "language_info": {
   "codemirror_mode": {
    "name": "ipython",
    "version": 3
   },
   "file_extension": ".py",
   "mimetype": "text/x-python",
   "name": "python",
   "nbconvert_exporter": "python",
   "pygments_lexer": "ipython3",
   "version": "3.11.5"
  }
 },
 "nbformat": 4,
 "nbformat_minor": 5
}
